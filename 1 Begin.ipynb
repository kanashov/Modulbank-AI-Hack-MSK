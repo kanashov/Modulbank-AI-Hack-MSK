{
 "cells": [
  {
   "cell_type": "code",
   "execution_count": 21,
   "metadata": {
    "collapsed": true
   },
   "outputs": [],
   "source": [
    "import numpy as np\n",
    "import pandas as pd\n",
    "import matplotlib.pyplot as plt\n",
    "from sklearn.model_selection import train_test_split, GridSearchCV, cross_val_score, StratifiedKFold \n",
    "from sklearn.tree import DecisionTreeClassifier\n",
    "from sklearn.metrics import roc_auc_score\n",
    "from sklearn.neighbors import KNeighborsClassifier\n",
    "from sklearn.ensemble import RandomForestClassifier\n",
    "from sklearn.linear_model import LogisticRegression, LogisticRegressionCV, RidgeCV, LassoCV, Ridge, Lasso\n",
    "\n",
    "%matplotlib inline"
   ]
  },
  {
   "cell_type": "code",
   "execution_count": 2,
   "metadata": {
    "collapsed": true
   },
   "outputs": [],
   "source": [
    "# Удалить отступ у строки заголовка\n",
    "train = pd.read_csv('data/train.csv', sep='\\t', index_col='Unnamed: 0')\n",
    "test = pd.read_csv('data/test.csv', sep='\\t', index_col='Unnamed: 0')\n",
    "test = test.iloc[:, 1:]       # убираем 0 столбец таргет\n",
    "\n",
    "seed = 42"
   ]
  },
  {
   "cell_type": "code",
   "execution_count": 3,
   "metadata": {
    "scrolled": true
   },
   "outputs": [
    {
     "data": {
      "text/html": [
       "<div>\n",
       "<style>\n",
       "    .dataframe thead tr:only-child th {\n",
       "        text-align: right;\n",
       "    }\n",
       "\n",
       "    .dataframe thead th {\n",
       "        text-align: left;\n",
       "    }\n",
       "\n",
       "    .dataframe tbody tr th {\n",
       "        vertical-align: top;\n",
       "    }\n",
       "</style>\n",
       "<table border=\"1\" class=\"dataframe\">\n",
       "  <thead>\n",
       "    <tr style=\"text-align: right;\">\n",
       "      <th></th>\n",
       "      <th>0</th>\n",
       "      <th>1</th>\n",
       "      <th>2</th>\n",
       "      <th>3</th>\n",
       "      <th>4</th>\n",
       "      <th>5</th>\n",
       "      <th>6</th>\n",
       "      <th>7</th>\n",
       "      <th>8</th>\n",
       "      <th>9</th>\n",
       "      <th>...</th>\n",
       "      <th>336</th>\n",
       "      <th>337</th>\n",
       "      <th>338</th>\n",
       "      <th>339</th>\n",
       "      <th>340</th>\n",
       "      <th>341</th>\n",
       "      <th>342</th>\n",
       "      <th>343</th>\n",
       "      <th>344</th>\n",
       "      <th>345</th>\n",
       "    </tr>\n",
       "  </thead>\n",
       "  <tbody>\n",
       "    <tr>\n",
       "      <th>0</th>\n",
       "      <td>1</td>\n",
       "      <td>1</td>\n",
       "      <td>0</td>\n",
       "      <td>0</td>\n",
       "      <td>0</td>\n",
       "      <td>0</td>\n",
       "      <td>0</td>\n",
       "      <td>0.090909</td>\n",
       "      <td>0</td>\n",
       "      <td>0</td>\n",
       "      <td>...</td>\n",
       "      <td>0.221395</td>\n",
       "      <td>0</td>\n",
       "      <td>1</td>\n",
       "      <td>0</td>\n",
       "      <td>0</td>\n",
       "      <td>0.222222</td>\n",
       "      <td>1</td>\n",
       "      <td>1</td>\n",
       "      <td>1</td>\n",
       "      <td>1</td>\n",
       "    </tr>\n",
       "    <tr>\n",
       "      <th>1</th>\n",
       "      <td>1</td>\n",
       "      <td>1</td>\n",
       "      <td>0</td>\n",
       "      <td>0</td>\n",
       "      <td>1</td>\n",
       "      <td>0</td>\n",
       "      <td>0</td>\n",
       "      <td>0.090909</td>\n",
       "      <td>0</td>\n",
       "      <td>0</td>\n",
       "      <td>...</td>\n",
       "      <td>0.241508</td>\n",
       "      <td>0</td>\n",
       "      <td>1</td>\n",
       "      <td>0</td>\n",
       "      <td>0</td>\n",
       "      <td>0.111111</td>\n",
       "      <td>1</td>\n",
       "      <td>1</td>\n",
       "      <td>1</td>\n",
       "      <td>0</td>\n",
       "    </tr>\n",
       "    <tr>\n",
       "      <th>2</th>\n",
       "      <td>0</td>\n",
       "      <td>1</td>\n",
       "      <td>0</td>\n",
       "      <td>0</td>\n",
       "      <td>1</td>\n",
       "      <td>0</td>\n",
       "      <td>0</td>\n",
       "      <td>0.090909</td>\n",
       "      <td>0</td>\n",
       "      <td>0</td>\n",
       "      <td>...</td>\n",
       "      <td>0.123067</td>\n",
       "      <td>0</td>\n",
       "      <td>1</td>\n",
       "      <td>0</td>\n",
       "      <td>0</td>\n",
       "      <td>0.444444</td>\n",
       "      <td>1</td>\n",
       "      <td>1</td>\n",
       "      <td>1</td>\n",
       "      <td>1</td>\n",
       "    </tr>\n",
       "    <tr>\n",
       "      <th>3</th>\n",
       "      <td>0</td>\n",
       "      <td>1</td>\n",
       "      <td>0</td>\n",
       "      <td>0</td>\n",
       "      <td>1</td>\n",
       "      <td>0</td>\n",
       "      <td>0</td>\n",
       "      <td>0.136364</td>\n",
       "      <td>0</td>\n",
       "      <td>0</td>\n",
       "      <td>...</td>\n",
       "      <td>0.296065</td>\n",
       "      <td>0</td>\n",
       "      <td>0</td>\n",
       "      <td>1</td>\n",
       "      <td>0</td>\n",
       "      <td>0.222222</td>\n",
       "      <td>1</td>\n",
       "      <td>1</td>\n",
       "      <td>1</td>\n",
       "      <td>0</td>\n",
       "    </tr>\n",
       "    <tr>\n",
       "      <th>4</th>\n",
       "      <td>0</td>\n",
       "      <td>1</td>\n",
       "      <td>0</td>\n",
       "      <td>0</td>\n",
       "      <td>1</td>\n",
       "      <td>0</td>\n",
       "      <td>0</td>\n",
       "      <td>0.136364</td>\n",
       "      <td>0</td>\n",
       "      <td>0</td>\n",
       "      <td>...</td>\n",
       "      <td>0.178956</td>\n",
       "      <td>0</td>\n",
       "      <td>0</td>\n",
       "      <td>1</td>\n",
       "      <td>0</td>\n",
       "      <td>0.111111</td>\n",
       "      <td>1</td>\n",
       "      <td>1</td>\n",
       "      <td>1</td>\n",
       "      <td>1</td>\n",
       "    </tr>\n",
       "  </tbody>\n",
       "</table>\n",
       "<p>5 rows × 346 columns</p>\n",
       "</div>"
      ],
      "text/plain": [
       "   0  1  2  3  4  5  6         7  8  9 ...        336  337  338  339  340  \\\n",
       "0  1  1  0  0  0  0  0  0.090909  0  0 ...   0.221395    0    1    0    0   \n",
       "1  1  1  0  0  1  0  0  0.090909  0  0 ...   0.241508    0    1    0    0   \n",
       "2  0  1  0  0  1  0  0  0.090909  0  0 ...   0.123067    0    1    0    0   \n",
       "3  0  1  0  0  1  0  0  0.136364  0  0 ...   0.296065    0    0    1    0   \n",
       "4  0  1  0  0  1  0  0  0.136364  0  0 ...   0.178956    0    0    1    0   \n",
       "\n",
       "        341  342  343  344  345  \n",
       "0  0.222222    1    1    1    1  \n",
       "1  0.111111    1    1    1    0  \n",
       "2  0.444444    1    1    1    1  \n",
       "3  0.222222    1    1    1    0  \n",
       "4  0.111111    1    1    1    1  \n",
       "\n",
       "[5 rows x 346 columns]"
      ]
     },
     "execution_count": 3,
     "metadata": {},
     "output_type": "execute_result"
    }
   ],
   "source": [
    "train.head()"
   ]
  },
  {
   "cell_type": "code",
   "execution_count": 4,
   "metadata": {},
   "outputs": [
    {
     "data": {
      "text/html": [
       "<div>\n",
       "<style>\n",
       "    .dataframe thead tr:only-child th {\n",
       "        text-align: right;\n",
       "    }\n",
       "\n",
       "    .dataframe thead th {\n",
       "        text-align: left;\n",
       "    }\n",
       "\n",
       "    .dataframe tbody tr th {\n",
       "        vertical-align: top;\n",
       "    }\n",
       "</style>\n",
       "<table border=\"1\" class=\"dataframe\">\n",
       "  <thead>\n",
       "    <tr style=\"text-align: right;\">\n",
       "      <th></th>\n",
       "      <th>1</th>\n",
       "      <th>2</th>\n",
       "      <th>3</th>\n",
       "      <th>4</th>\n",
       "      <th>5</th>\n",
       "      <th>6</th>\n",
       "      <th>7</th>\n",
       "      <th>8</th>\n",
       "      <th>9</th>\n",
       "      <th>10</th>\n",
       "      <th>...</th>\n",
       "      <th>336</th>\n",
       "      <th>337</th>\n",
       "      <th>338</th>\n",
       "      <th>339</th>\n",
       "      <th>340</th>\n",
       "      <th>341</th>\n",
       "      <th>342</th>\n",
       "      <th>343</th>\n",
       "      <th>344</th>\n",
       "      <th>345</th>\n",
       "    </tr>\n",
       "  </thead>\n",
       "  <tbody>\n",
       "    <tr>\n",
       "      <th>0</th>\n",
       "      <td>1</td>\n",
       "      <td>0</td>\n",
       "      <td>0</td>\n",
       "      <td>1</td>\n",
       "      <td>0</td>\n",
       "      <td>0</td>\n",
       "      <td>0.136364</td>\n",
       "      <td>0</td>\n",
       "      <td>0</td>\n",
       "      <td>1</td>\n",
       "      <td>...</td>\n",
       "      <td>0.192984</td>\n",
       "      <td>0</td>\n",
       "      <td>1</td>\n",
       "      <td>0</td>\n",
       "      <td>0</td>\n",
       "      <td>0.222222</td>\n",
       "      <td>1</td>\n",
       "      <td>1</td>\n",
       "      <td>1</td>\n",
       "      <td>1</td>\n",
       "    </tr>\n",
       "    <tr>\n",
       "      <th>1</th>\n",
       "      <td>1</td>\n",
       "      <td>0</td>\n",
       "      <td>0</td>\n",
       "      <td>1</td>\n",
       "      <td>0</td>\n",
       "      <td>0</td>\n",
       "      <td>0.181818</td>\n",
       "      <td>0</td>\n",
       "      <td>0</td>\n",
       "      <td>1</td>\n",
       "      <td>...</td>\n",
       "      <td>0.195690</td>\n",
       "      <td>0</td>\n",
       "      <td>1</td>\n",
       "      <td>0</td>\n",
       "      <td>0</td>\n",
       "      <td>0.000000</td>\n",
       "      <td>1</td>\n",
       "      <td>1</td>\n",
       "      <td>1</td>\n",
       "      <td>0</td>\n",
       "    </tr>\n",
       "    <tr>\n",
       "      <th>2</th>\n",
       "      <td>1</td>\n",
       "      <td>0</td>\n",
       "      <td>0</td>\n",
       "      <td>0</td>\n",
       "      <td>0</td>\n",
       "      <td>0</td>\n",
       "      <td>0.090909</td>\n",
       "      <td>0</td>\n",
       "      <td>0</td>\n",
       "      <td>1</td>\n",
       "      <td>...</td>\n",
       "      <td>0.192984</td>\n",
       "      <td>0</td>\n",
       "      <td>1</td>\n",
       "      <td>0</td>\n",
       "      <td>0</td>\n",
       "      <td>0.222222</td>\n",
       "      <td>1</td>\n",
       "      <td>1</td>\n",
       "      <td>1</td>\n",
       "      <td>0</td>\n",
       "    </tr>\n",
       "    <tr>\n",
       "      <th>3</th>\n",
       "      <td>1</td>\n",
       "      <td>0</td>\n",
       "      <td>0</td>\n",
       "      <td>1</td>\n",
       "      <td>0</td>\n",
       "      <td>0</td>\n",
       "      <td>0.090909</td>\n",
       "      <td>0</td>\n",
       "      <td>0</td>\n",
       "      <td>1</td>\n",
       "      <td>...</td>\n",
       "      <td>0.195690</td>\n",
       "      <td>0</td>\n",
       "      <td>1</td>\n",
       "      <td>0</td>\n",
       "      <td>0</td>\n",
       "      <td>0.000000</td>\n",
       "      <td>1</td>\n",
       "      <td>1</td>\n",
       "      <td>1</td>\n",
       "      <td>0</td>\n",
       "    </tr>\n",
       "    <tr>\n",
       "      <th>4</th>\n",
       "      <td>1</td>\n",
       "      <td>0</td>\n",
       "      <td>0</td>\n",
       "      <td>1</td>\n",
       "      <td>0</td>\n",
       "      <td>0</td>\n",
       "      <td>0.090909</td>\n",
       "      <td>0</td>\n",
       "      <td>0</td>\n",
       "      <td>1</td>\n",
       "      <td>...</td>\n",
       "      <td>0.289893</td>\n",
       "      <td>0</td>\n",
       "      <td>0</td>\n",
       "      <td>1</td>\n",
       "      <td>0</td>\n",
       "      <td>0.000000</td>\n",
       "      <td>1</td>\n",
       "      <td>1</td>\n",
       "      <td>1</td>\n",
       "      <td>1</td>\n",
       "    </tr>\n",
       "  </tbody>\n",
       "</table>\n",
       "<p>5 rows × 345 columns</p>\n",
       "</div>"
      ],
      "text/plain": [
       "   1  2  3  4  5  6         7  8  9  10 ...        336  337  338  339  340  \\\n",
       "0  1  0  0  1  0  0  0.136364  0  0   1 ...   0.192984    0    1    0    0   \n",
       "1  1  0  0  1  0  0  0.181818  0  0   1 ...   0.195690    0    1    0    0   \n",
       "2  1  0  0  0  0  0  0.090909  0  0   1 ...   0.192984    0    1    0    0   \n",
       "3  1  0  0  1  0  0  0.090909  0  0   1 ...   0.195690    0    1    0    0   \n",
       "4  1  0  0  1  0  0  0.090909  0  0   1 ...   0.289893    0    0    1    0   \n",
       "\n",
       "        341  342  343  344  345  \n",
       "0  0.222222    1    1    1    1  \n",
       "1  0.000000    1    1    1    0  \n",
       "2  0.222222    1    1    1    0  \n",
       "3  0.000000    1    1    1    0  \n",
       "4  0.000000    1    1    1    1  \n",
       "\n",
       "[5 rows x 345 columns]"
      ]
     },
     "execution_count": 4,
     "metadata": {},
     "output_type": "execute_result"
    }
   ],
   "source": [
    "test.head()"
   ]
  },
  {
   "cell_type": "code",
   "execution_count": 116,
   "metadata": {},
   "outputs": [
    {
     "name": "stdout",
     "output_type": "stream",
     "text": [
      "<class 'pandas.core.frame.DataFrame'>\n",
      "Int64Index: 30500 entries, 0 to 30499\n",
      "Columns: 346 entries, 0 to 345\n",
      "dtypes: float64(106), int64(240)\n",
      "memory usage: 80.7 MB\n"
     ]
    }
   ],
   "source": [
    "train.info()"
   ]
  },
  {
   "cell_type": "code",
   "execution_count": 81,
   "metadata": {},
   "outputs": [
    {
     "data": {
      "text/html": [
       "<div>\n",
       "<style>\n",
       "    .dataframe thead tr:only-child th {\n",
       "        text-align: right;\n",
       "    }\n",
       "\n",
       "    .dataframe thead th {\n",
       "        text-align: left;\n",
       "    }\n",
       "\n",
       "    .dataframe tbody tr th {\n",
       "        vertical-align: top;\n",
       "    }\n",
       "</style>\n",
       "<table border=\"1\" class=\"dataframe\">\n",
       "  <thead>\n",
       "    <tr style=\"text-align: right;\">\n",
       "      <th></th>\n",
       "      <th>0</th>\n",
       "      <th>1</th>\n",
       "      <th>2</th>\n",
       "      <th>3</th>\n",
       "      <th>4</th>\n",
       "      <th>5</th>\n",
       "      <th>6</th>\n",
       "      <th>7</th>\n",
       "      <th>8</th>\n",
       "      <th>9</th>\n",
       "      <th>...</th>\n",
       "      <th>336</th>\n",
       "      <th>337</th>\n",
       "      <th>338</th>\n",
       "      <th>339</th>\n",
       "      <th>340</th>\n",
       "      <th>341</th>\n",
       "      <th>342</th>\n",
       "      <th>343</th>\n",
       "      <th>344</th>\n",
       "      <th>345</th>\n",
       "    </tr>\n",
       "  </thead>\n",
       "  <tbody>\n",
       "    <tr>\n",
       "      <th>count</th>\n",
       "      <td>30500.000000</td>\n",
       "      <td>30500.000000</td>\n",
       "      <td>30500.000000</td>\n",
       "      <td>30500.000000</td>\n",
       "      <td>30500.000000</td>\n",
       "      <td>30500.000000</td>\n",
       "      <td>30500.000000</td>\n",
       "      <td>30500.000000</td>\n",
       "      <td>30500.000000</td>\n",
       "      <td>30500.000000</td>\n",
       "      <td>...</td>\n",
       "      <td>30500.000000</td>\n",
       "      <td>30500.000000</td>\n",
       "      <td>30500.000000</td>\n",
       "      <td>30500.000000</td>\n",
       "      <td>30500.000000</td>\n",
       "      <td>30500.000000</td>\n",
       "      <td>30500.000000</td>\n",
       "      <td>30500.000000</td>\n",
       "      <td>30500.000000</td>\n",
       "      <td>30500.000000</td>\n",
       "    </tr>\n",
       "    <tr>\n",
       "      <th>mean</th>\n",
       "      <td>0.177803</td>\n",
       "      <td>0.977902</td>\n",
       "      <td>0.021934</td>\n",
       "      <td>0.000164</td>\n",
       "      <td>0.437672</td>\n",
       "      <td>0.000623</td>\n",
       "      <td>0.000721</td>\n",
       "      <td>0.096431</td>\n",
       "      <td>0.003344</td>\n",
       "      <td>0.021934</td>\n",
       "      <td>...</td>\n",
       "      <td>0.306157</td>\n",
       "      <td>0.489672</td>\n",
       "      <td>0.401607</td>\n",
       "      <td>0.050426</td>\n",
       "      <td>0.001246</td>\n",
       "      <td>0.085858</td>\n",
       "      <td>0.965934</td>\n",
       "      <td>0.985541</td>\n",
       "      <td>0.953803</td>\n",
       "      <td>0.626230</td>\n",
       "    </tr>\n",
       "    <tr>\n",
       "      <th>std</th>\n",
       "      <td>0.382353</td>\n",
       "      <td>0.147006</td>\n",
       "      <td>0.146472</td>\n",
       "      <td>0.012803</td>\n",
       "      <td>0.496108</td>\n",
       "      <td>0.024952</td>\n",
       "      <td>0.026848</td>\n",
       "      <td>0.023719</td>\n",
       "      <td>0.057734</td>\n",
       "      <td>0.146472</td>\n",
       "      <td>...</td>\n",
       "      <td>0.128760</td>\n",
       "      <td>0.499902</td>\n",
       "      <td>0.490231</td>\n",
       "      <td>0.218826</td>\n",
       "      <td>0.035276</td>\n",
       "      <td>0.165875</td>\n",
       "      <td>0.181401</td>\n",
       "      <td>0.119375</td>\n",
       "      <td>0.209914</td>\n",
       "      <td>0.483812</td>\n",
       "    </tr>\n",
       "    <tr>\n",
       "      <th>min</th>\n",
       "      <td>0.000000</td>\n",
       "      <td>0.000000</td>\n",
       "      <td>0.000000</td>\n",
       "      <td>0.000000</td>\n",
       "      <td>0.000000</td>\n",
       "      <td>0.000000</td>\n",
       "      <td>0.000000</td>\n",
       "      <td>0.000000</td>\n",
       "      <td>0.000000</td>\n",
       "      <td>0.000000</td>\n",
       "      <td>...</td>\n",
       "      <td>0.000000</td>\n",
       "      <td>0.000000</td>\n",
       "      <td>0.000000</td>\n",
       "      <td>0.000000</td>\n",
       "      <td>0.000000</td>\n",
       "      <td>0.000000</td>\n",
       "      <td>0.000000</td>\n",
       "      <td>0.000000</td>\n",
       "      <td>0.000000</td>\n",
       "      <td>0.000000</td>\n",
       "    </tr>\n",
       "    <tr>\n",
       "      <th>25%</th>\n",
       "      <td>0.000000</td>\n",
       "      <td>1.000000</td>\n",
       "      <td>0.000000</td>\n",
       "      <td>0.000000</td>\n",
       "      <td>0.000000</td>\n",
       "      <td>0.000000</td>\n",
       "      <td>0.000000</td>\n",
       "      <td>0.090909</td>\n",
       "      <td>0.000000</td>\n",
       "      <td>0.000000</td>\n",
       "      <td>...</td>\n",
       "      <td>0.192617</td>\n",
       "      <td>0.000000</td>\n",
       "      <td>0.000000</td>\n",
       "      <td>0.000000</td>\n",
       "      <td>0.000000</td>\n",
       "      <td>0.000000</td>\n",
       "      <td>1.000000</td>\n",
       "      <td>1.000000</td>\n",
       "      <td>1.000000</td>\n",
       "      <td>0.000000</td>\n",
       "    </tr>\n",
       "    <tr>\n",
       "      <th>50%</th>\n",
       "      <td>0.000000</td>\n",
       "      <td>1.000000</td>\n",
       "      <td>0.000000</td>\n",
       "      <td>0.000000</td>\n",
       "      <td>0.000000</td>\n",
       "      <td>0.000000</td>\n",
       "      <td>0.000000</td>\n",
       "      <td>0.090909</td>\n",
       "      <td>0.000000</td>\n",
       "      <td>0.000000</td>\n",
       "      <td>...</td>\n",
       "      <td>0.281274</td>\n",
       "      <td>0.000000</td>\n",
       "      <td>0.000000</td>\n",
       "      <td>0.000000</td>\n",
       "      <td>0.000000</td>\n",
       "      <td>0.000000</td>\n",
       "      <td>1.000000</td>\n",
       "      <td>1.000000</td>\n",
       "      <td>1.000000</td>\n",
       "      <td>1.000000</td>\n",
       "    </tr>\n",
       "    <tr>\n",
       "      <th>75%</th>\n",
       "      <td>0.000000</td>\n",
       "      <td>1.000000</td>\n",
       "      <td>0.000000</td>\n",
       "      <td>0.000000</td>\n",
       "      <td>1.000000</td>\n",
       "      <td>0.000000</td>\n",
       "      <td>0.000000</td>\n",
       "      <td>0.090909</td>\n",
       "      <td>0.000000</td>\n",
       "      <td>0.000000</td>\n",
       "      <td>...</td>\n",
       "      <td>0.450414</td>\n",
       "      <td>1.000000</td>\n",
       "      <td>1.000000</td>\n",
       "      <td>0.000000</td>\n",
       "      <td>0.000000</td>\n",
       "      <td>0.111111</td>\n",
       "      <td>1.000000</td>\n",
       "      <td>1.000000</td>\n",
       "      <td>1.000000</td>\n",
       "      <td>1.000000</td>\n",
       "    </tr>\n",
       "    <tr>\n",
       "      <th>max</th>\n",
       "      <td>1.000000</td>\n",
       "      <td>1.000000</td>\n",
       "      <td>1.000000</td>\n",
       "      <td>1.000000</td>\n",
       "      <td>1.000000</td>\n",
       "      <td>1.000000</td>\n",
       "      <td>1.000000</td>\n",
       "      <td>1.000000</td>\n",
       "      <td>1.000000</td>\n",
       "      <td>1.000000</td>\n",
       "      <td>...</td>\n",
       "      <td>1.000000</td>\n",
       "      <td>1.000000</td>\n",
       "      <td>1.000000</td>\n",
       "      <td>1.000000</td>\n",
       "      <td>1.000000</td>\n",
       "      <td>1.000000</td>\n",
       "      <td>1.000000</td>\n",
       "      <td>1.000000</td>\n",
       "      <td>1.000000</td>\n",
       "      <td>1.000000</td>\n",
       "    </tr>\n",
       "  </tbody>\n",
       "</table>\n",
       "<p>8 rows × 346 columns</p>\n",
       "</div>"
      ],
      "text/plain": [
       "                  0             1             2             3             4  \\\n",
       "count  30500.000000  30500.000000  30500.000000  30500.000000  30500.000000   \n",
       "mean       0.177803      0.977902      0.021934      0.000164      0.437672   \n",
       "std        0.382353      0.147006      0.146472      0.012803      0.496108   \n",
       "min        0.000000      0.000000      0.000000      0.000000      0.000000   \n",
       "25%        0.000000      1.000000      0.000000      0.000000      0.000000   \n",
       "50%        0.000000      1.000000      0.000000      0.000000      0.000000   \n",
       "75%        0.000000      1.000000      0.000000      0.000000      1.000000   \n",
       "max        1.000000      1.000000      1.000000      1.000000      1.000000   \n",
       "\n",
       "                  5             6             7             8             9  \\\n",
       "count  30500.000000  30500.000000  30500.000000  30500.000000  30500.000000   \n",
       "mean       0.000623      0.000721      0.096431      0.003344      0.021934   \n",
       "std        0.024952      0.026848      0.023719      0.057734      0.146472   \n",
       "min        0.000000      0.000000      0.000000      0.000000      0.000000   \n",
       "25%        0.000000      0.000000      0.090909      0.000000      0.000000   \n",
       "50%        0.000000      0.000000      0.090909      0.000000      0.000000   \n",
       "75%        0.000000      0.000000      0.090909      0.000000      0.000000   \n",
       "max        1.000000      1.000000      1.000000      1.000000      1.000000   \n",
       "\n",
       "           ...                336           337           338           339  \\\n",
       "count      ...       30500.000000  30500.000000  30500.000000  30500.000000   \n",
       "mean       ...           0.306157      0.489672      0.401607      0.050426   \n",
       "std        ...           0.128760      0.499902      0.490231      0.218826   \n",
       "min        ...           0.000000      0.000000      0.000000      0.000000   \n",
       "25%        ...           0.192617      0.000000      0.000000      0.000000   \n",
       "50%        ...           0.281274      0.000000      0.000000      0.000000   \n",
       "75%        ...           0.450414      1.000000      1.000000      0.000000   \n",
       "max        ...           1.000000      1.000000      1.000000      1.000000   \n",
       "\n",
       "                340           341           342           343           344  \\\n",
       "count  30500.000000  30500.000000  30500.000000  30500.000000  30500.000000   \n",
       "mean       0.001246      0.085858      0.965934      0.985541      0.953803   \n",
       "std        0.035276      0.165875      0.181401      0.119375      0.209914   \n",
       "min        0.000000      0.000000      0.000000      0.000000      0.000000   \n",
       "25%        0.000000      0.000000      1.000000      1.000000      1.000000   \n",
       "50%        0.000000      0.000000      1.000000      1.000000      1.000000   \n",
       "75%        0.000000      0.111111      1.000000      1.000000      1.000000   \n",
       "max        1.000000      1.000000      1.000000      1.000000      1.000000   \n",
       "\n",
       "                345  \n",
       "count  30500.000000  \n",
       "mean       0.626230  \n",
       "std        0.483812  \n",
       "min        0.000000  \n",
       "25%        0.000000  \n",
       "50%        1.000000  \n",
       "75%        1.000000  \n",
       "max        1.000000  \n",
       "\n",
       "[8 rows x 346 columns]"
      ]
     },
     "execution_count": 81,
     "metadata": {},
     "output_type": "execute_result"
    }
   ],
   "source": [
    "train.describe()"
   ]
  },
  {
   "cell_type": "code",
   "execution_count": 123,
   "metadata": {},
   "outputs": [
    {
     "data": {
      "text/plain": [
       "0    25077\n",
       "1     5423\n",
       "Name: 0, dtype: int64"
      ]
     },
     "execution_count": 123,
     "metadata": {},
     "output_type": "execute_result"
    }
   ],
   "source": [
    "train['0'].value_counts()"
   ]
  },
  {
   "cell_type": "code",
   "execution_count": 136,
   "metadata": {},
   "outputs": [
    {
     "data": {
      "image/png": "[encoded data removed]",
      "text/plain": [
       "<matplotlib.figure.Figure at 0x1f82ce23dd8>"
      ]
     },
     "metadata": {},
     "output_type": "display_data"
    }
   ],
   "source": [
    "train['0'].value_counts().plot(kind='bar', label='Услуга')\n",
    "plt.legend()\n",
    "plt.title('Распределение подключения услуги');"
   ]
  },
  {
   "cell_type": "code",
   "execution_count": 117,
   "metadata": {},
   "outputs": [
    {
     "name": "stdout",
     "output_type": "stream",
     "text": [
      "<class 'pandas.core.frame.DataFrame'>\n",
      "Int64Index: 4166 entries, 0 to 4165\n",
      "Columns: 345 entries, 1 to 345\n",
      "dtypes: float64(106), int64(239)\n",
      "memory usage: 11.0 MB\n"
     ]
    }
   ],
   "source": [
    "test.info()"
   ]
  },
  {
   "cell_type": "code",
   "execution_count": 3,
   "metadata": {
    "collapsed": true
   },
   "outputs": [],
   "source": [
    "# Разбиение на трейн и таргет\n",
    "X_train = train.iloc[:,1:]\n",
    "y = train.iloc[:,0]"
   ]
  },
  {
   "cell_type": "markdown",
   "metadata": {},
   "source": [
    "### Снижение размерности, визуализация"
   ]
  },
  {
   "cell_type": "code",
   "execution_count": 5,
   "metadata": {
    "collapsed": true
   },
   "outputs": [],
   "source": [
    "from sklearn.manifold import TSNE\n",
    "from sklearn.preprocessing import StandardScaler"
   ]
  },
  {
   "cell_type": "code",
   "execution_count": 6,
   "metadata": {},
   "outputs": [
    {
     "name": "stdout",
     "output_type": "stream",
     "text": [
      "Wall time: 21min 53s\n"
     ]
    }
   ],
   "source": [
    "%%time\n",
    "tsne = TSNE(random_state=17)\n",
    "tsne_representation = tsne.fit_transform(X_train)"
   ]
  },
  {
   "cell_type": "code",
   "execution_count": 7,
   "metadata": {},
   "outputs": [
    {
     "data": {
      "image/png": "[encoded data removed]",
      "text/plain": [
       "<matplotlib.figure.Figure at 0x2743a40ab38>"
      ]
     },
     "metadata": {},
     "output_type": "display_data"
    }
   ],
   "source": [
    "plt.scatter(tsne_representation[:, 0], tsne_representation[:, 1]);"
   ]
  },
  {
   "cell_type": "code",
   "execution_count": 8,
   "metadata": {
    "scrolled": true
   },
   "outputs": [
    {
     "data": {
      "image/png": "[encoded data removed]",
      "text/plain": [
       "<matplotlib.figure.Figure at 0x2743b10fa90>"
      ]
     },
     "metadata": {},
     "output_type": "display_data"
    }
   ],
   "source": [
    "plt.scatter(tsne_representation[:, 0], tsne_representation[:, 1], \n",
    "            c=y.map({0: 'blue', 1: 'red'}));"
   ]
  },
  {
   "cell_type": "markdown",
   "metadata": {},
   "source": [
    "### Дерево решений"
   ]
  },
  {
   "cell_type": "code",
   "execution_count": 4,
   "metadata": {
    "collapsed": true
   },
   "outputs": [],
   "source": [
    "X_train, X_val, y_train, y_val = train_test_split(X_train, y, test_size=0.2, random_state=seed, shuffle=True, stratify=y)"
   ]
  },
  {
   "cell_type": "code",
   "execution_count": 12,
   "metadata": {},
   "outputs": [
    {
     "data": {
      "text/plain": [
       "0.53763272394797179"
      ]
     },
     "execution_count": 12,
     "metadata": {},
     "output_type": "execute_result"
    }
   ],
   "source": [
    "# Дерево решений\n",
    "tree = DecisionTreeClassifier(max_depth=5, random_state=seed)\n",
    "tree.fit(X_train, y_train)\n",
    "tree_pred = tree.predict(X_val)\n",
    "roc_auc_score(y_val, tree_pred)"
   ]
  },
  {
   "cell_type": "code",
   "execution_count": 13,
   "metadata": {},
   "outputs": [
    {
     "data": {
      "text/plain": [
       "0.54769332555329409"
      ]
     },
     "execution_count": 13,
     "metadata": {},
     "output_type": "execute_result"
    }
   ],
   "source": [
    "# Метод k ближайших соседей\n",
    "knn = KNeighborsClassifier(n_neighbors=10)\n",
    "knn.fit(X_train, y_train)\n",
    "knn_pred = knn.predict(X_val)\n",
    "roc_auc_score(y_val, knn_pred)"
   ]
  },
  {
   "cell_type": "code",
   "execution_count": 77,
   "metadata": {},
   "outputs": [
    {
     "name": "stdout",
     "output_type": "stream",
     "text": [
      "Fitting 5 folds for each of 1 candidates, totalling 5 fits\n"
     ]
    },
    {
     "name": "stderr",
     "output_type": "stream",
     "text": [
      "[Parallel(n_jobs=-1)]: Done   2 out of   5 | elapsed:    4.4s remaining:    6.6s\n",
      "[Parallel(n_jobs=-1)]: Done   5 out of   5 | elapsed:    6.7s finished\n"
     ]
    },
    {
     "data": {
      "text/plain": [
       "GridSearchCV(cv=StratifiedKFold(n_splits=5, random_state=42, shuffle=True),\n",
       "       error_score='raise',\n",
       "       estimator=DecisionTreeClassifier(class_weight=None, criterion='gini', max_depth=40,\n",
       "            max_features=20, max_leaf_nodes=None,\n",
       "            min_impurity_decrease=0.0, min_impurity_split=None,\n",
       "            min_samples_leaf=1, min_samples_split=2,\n",
       "            min_weight_fraction_leaf=0.0, presort=False, random_state=42,\n",
       "            splitter='best'),\n",
       "       fit_params=None, iid=True, n_jobs=-1,\n",
       "       param_grid={'max_depth': [50], 'max_features': [345]},\n",
       "       pre_dispatch='2*n_jobs', refit=True, return_train_score='warn',\n",
       "       scoring='roc_auc', verbose=True)"
      ]
     },
     "execution_count": 77,
     "metadata": {},
     "output_type": "execute_result"
    }
   ],
   "source": [
    "# Подбор параметров дерева\n",
    "tree_params = {'max_depth': [50],'max_features': [345]}\n",
    "cv = StratifiedKFold(n_splits=5, shuffle=True, random_state=seed)\n",
    "tree_grid = GridSearchCV(tree, tree_params, scoring = 'roc_auc', cv=cv, n_jobs=-1, verbose=True)\n",
    "tree_grid.fit(X_train, y_train)"
   ]
  },
  {
   "cell_type": "code",
   "execution_count": 78,
   "metadata": {},
   "outputs": [
    {
     "name": "stdout",
     "output_type": "stream",
     "text": [
      "Best parameters:  {'max_depth': 50, 'max_features': 345}\n",
      "roc_auc_cv:  0.564676650641\n",
      "roc_auc_train:  0.992738589212\n",
      "roc_auc_val:  0.580734294811\n"
     ]
    }
   ],
   "source": [
    "print('Best parameters: ', tree_grid.best_params_)\n",
    "print('roc_auc_cv: ', tree_grid.best_score_)\n",
    "print('roc_auc_train: ', roc_auc_score(y_train, tree_grid.predict(X_train)))\n",
    "print('roc_auc_val: ', roc_auc_score(y_val, tree_grid.predict(X_val)))"
   ]
  },
  {
   "cell_type": "code",
   "execution_count": 50,
   "metadata": {
    "scrolled": true
   },
   "outputs": [
    {
     "name": "stdout",
     "output_type": "stream",
     "text": [
      "Best parameters:  {'max_depth': 10, 'max_features': 345}\n",
      "roc_auc_cv:  0.632223682429\n",
      "roc_auc_train:  0.66862865734\n",
      "roc_auc_val:  0.564960877735\n"
     ]
    }
   ],
   "source": [
    "print('Best parameters: ', tree_grid.best_params_)\n",
    "print('roc_auc_cv: ', tree_grid.best_score_)\n",
    "print('roc_auc_train: ', roc_auc_score(y_train, tree_grid.predict(X_train)))\n",
    "print('roc_auc_val: ', roc_auc_score(y_val, tree_grid.predict(X_val)))"
   ]
  },
  {
   "cell_type": "code",
   "execution_count": 67,
   "metadata": {
    "collapsed": true
   },
   "outputs": [
    {
     "name": "stderr",
     "output_type": "stream",
     "text": [
      "D:\\Anaconda3\\lib\\site-packages\\sklearn\\model_selection\\_search.py:761: DeprecationWarning: The grid_scores_ attribute was deprecated in version 0.18 in favor of the more elaborate cv_results_ attribute. The grid_scores_ attribute will not be available from 0.20\n",
      "  DeprecationWarning)\n"
     ]
    },
    {
     "data": {
      "text/plain": [
       "[mean: 0.63222, std: 0.01227, params: {'max_depth': 10, 'max_features': 345},\n",
       " mean: 0.61634, std: 0.01799, params: {'max_depth': 11, 'max_features': 345},\n",
       " mean: 0.60152, std: 0.01731, params: {'max_depth': 12, 'max_features': 345},\n",
       " mean: 0.58111, std: 0.01488, params: {'max_depth': 13, 'max_features': 345},\n",
       " mean: 0.57349, std: 0.01216, params: {'max_depth': 14, 'max_features': 345},\n",
       " mean: 0.55742, std: 0.01400, params: {'max_depth': 15, 'max_features': 345},\n",
       " mean: 0.54824, std: 0.00990, params: {'max_depth': 16, 'max_features': 345},\n",
       " mean: 0.54105, std: 0.01382, params: {'max_depth': 17, 'max_features': 345},\n",
       " mean: 0.53519, std: 0.01176, params: {'max_depth': 18, 'max_features': 345},\n",
       " mean: 0.52714, std: 0.00845, params: {'max_depth': 19, 'max_features': 345},\n",
       " mean: 0.52644, std: 0.01272, params: {'max_depth': 20, 'max_features': 345},\n",
       " mean: 0.52049, std: 0.00945, params: {'max_depth': 21, 'max_features': 345},\n",
       " mean: 0.52552, std: 0.00758, params: {'max_depth': 22, 'max_features': 345},\n",
       " mean: 0.52827, std: 0.00904, params: {'max_depth': 23, 'max_features': 345},\n",
       " mean: 0.52798, std: 0.01034, params: {'max_depth': 24, 'max_features': 345},\n",
       " mean: 0.53105, std: 0.00865, params: {'max_depth': 25, 'max_features': 345},\n",
       " mean: 0.52994, std: 0.00535, params: {'max_depth': 26, 'max_features': 345},\n",
       " mean: 0.53541, std: 0.01402, params: {'max_depth': 27, 'max_features': 345},\n",
       " mean: 0.53900, std: 0.00999, params: {'max_depth': 28, 'max_features': 345},\n",
       " mean: 0.53695, std: 0.01231, params: {'max_depth': 29, 'max_features': 345},\n",
       " mean: 0.53781, std: 0.00510, params: {'max_depth': 30, 'max_features': 345},\n",
       " mean: 0.53801, std: 0.01088, params: {'max_depth': 31, 'max_features': 345},\n",
       " mean: 0.54377, std: 0.00765, params: {'max_depth': 32, 'max_features': 345},\n",
       " mean: 0.54143, std: 0.00790, params: {'max_depth': 33, 'max_features': 345},\n",
       " mean: 0.54763, std: 0.00343, params: {'max_depth': 34, 'max_features': 345},\n",
       " mean: 0.54882, std: 0.00220, params: {'max_depth': 35, 'max_features': 345},\n",
       " mean: 0.55116, std: 0.00846, params: {'max_depth': 36, 'max_features': 345},\n",
       " mean: 0.55282, std: 0.00755, params: {'max_depth': 37, 'max_features': 345},\n",
       " mean: 0.55039, std: 0.00644, params: {'max_depth': 38, 'max_features': 345},\n",
       " mean: 0.55446, std: 0.00532, params: {'max_depth': 39, 'max_features': 345},\n",
       " mean: 0.55498, std: 0.00637, params: {'max_depth': 40, 'max_features': 345},\n",
       " mean: 0.55847, std: 0.00351, params: {'max_depth': 41, 'max_features': 345},\n",
       " mean: 0.55711, std: 0.00689, params: {'max_depth': 42, 'max_features': 345},\n",
       " mean: 0.55848, std: 0.00534, params: {'max_depth': 43, 'max_features': 345},\n",
       " mean: 0.55800, std: 0.00759, params: {'max_depth': 44, 'max_features': 345},\n",
       " mean: 0.56019, std: 0.00660, params: {'max_depth': 45, 'max_features': 345},\n",
       " mean: 0.56227, std: 0.00739, params: {'max_depth': 46, 'max_features': 345},\n",
       " mean: 0.56144, std: 0.00694, params: {'max_depth': 47, 'max_features': 345},\n",
       " mean: 0.56188, std: 0.00605, params: {'max_depth': 48, 'max_features': 345},\n",
       " mean: 0.56436, std: 0.00617, params: {'max_depth': 49, 'max_features': 345},\n",
       " mean: 0.56468, std: 0.00657, params: {'max_depth': 50, 'max_features': 345},\n",
       " mean: 0.56636, std: 0.00233, params: {'max_depth': 51, 'max_features': 345},\n",
       " mean: 0.56459, std: 0.00325, params: {'max_depth': 52, 'max_features': 345},\n",
       " mean: 0.56556, std: 0.00206, params: {'max_depth': 53, 'max_features': 345},\n",
       " mean: 0.56939, std: 0.00486, params: {'max_depth': 54, 'max_features': 345},\n",
       " mean: 0.56666, std: 0.00433, params: {'max_depth': 55, 'max_features': 345},\n",
       " mean: 0.56529, std: 0.00367, params: {'max_depth': 56, 'max_features': 345},\n",
       " mean: 0.56371, std: 0.00344, params: {'max_depth': 57, 'max_features': 345},\n",
       " mean: 0.56452, std: 0.00319, params: {'max_depth': 58, 'max_features': 345},\n",
       " mean: 0.56560, std: 0.00402, params: {'max_depth': 59, 'max_features': 345},\n",
       " mean: 0.56545, std: 0.00384, params: {'max_depth': 60, 'max_features': 345},\n",
       " mean: 0.56472, std: 0.00325, params: {'max_depth': 61, 'max_features': 345},\n",
       " mean: 0.56612, std: 0.00472, params: {'max_depth': 62, 'max_features': 345},\n",
       " mean: 0.56503, std: 0.00344, params: {'max_depth': 63, 'max_features': 345},\n",
       " mean: 0.56398, std: 0.00327, params: {'max_depth': 64, 'max_features': 345},\n",
       " mean: 0.56398, std: 0.00327, params: {'max_depth': 65, 'max_features': 345},\n",
       " mean: 0.56398, std: 0.00327, params: {'max_depth': 66, 'max_features': 345},\n",
       " mean: 0.56398, std: 0.00327, params: {'max_depth': 67, 'max_features': 345},\n",
       " mean: 0.56398, std: 0.00327, params: {'max_depth': 68, 'max_features': 345},\n",
       " mean: 0.56398, std: 0.00327, params: {'max_depth': 69, 'max_features': 345},\n",
       " mean: 0.56398, std: 0.00327, params: {'max_depth': 70, 'max_features': 345},\n",
       " mean: 0.56398, std: 0.00327, params: {'max_depth': 71, 'max_features': 345},\n",
       " mean: 0.56398, std: 0.00327, params: {'max_depth': 72, 'max_features': 345},\n",
       " mean: 0.56398, std: 0.00327, params: {'max_depth': 73, 'max_features': 345},\n",
       " mean: 0.56398, std: 0.00327, params: {'max_depth': 74, 'max_features': 345},\n",
       " mean: 0.56398, std: 0.00327, params: {'max_depth': 75, 'max_features': 345},\n",
       " mean: 0.56398, std: 0.00327, params: {'max_depth': 76, 'max_features': 345},\n",
       " mean: 0.56398, std: 0.00327, params: {'max_depth': 77, 'max_features': 345},\n",
       " mean: 0.56398, std: 0.00327, params: {'max_depth': 78, 'max_features': 345},\n",
       " mean: 0.56398, std: 0.00327, params: {'max_depth': 79, 'max_features': 345},\n",
       " mean: 0.56398, std: 0.00327, params: {'max_depth': 80, 'max_features': 345},\n",
       " mean: 0.56398, std: 0.00327, params: {'max_depth': 81, 'max_features': 345},\n",
       " mean: 0.56398, std: 0.00327, params: {'max_depth': 82, 'max_features': 345},\n",
       " mean: 0.56398, std: 0.00327, params: {'max_depth': 83, 'max_features': 345},\n",
       " mean: 0.56398, std: 0.00327, params: {'max_depth': 84, 'max_features': 345},\n",
       " mean: 0.56398, std: 0.00327, params: {'max_depth': 85, 'max_features': 345},\n",
       " mean: 0.56398, std: 0.00327, params: {'max_depth': 86, 'max_features': 345},\n",
       " mean: 0.56398, std: 0.00327, params: {'max_depth': 87, 'max_features': 345},\n",
       " mean: 0.56398, std: 0.00327, params: {'max_depth': 88, 'max_features': 345},\n",
       " mean: 0.56398, std: 0.00327, params: {'max_depth': 89, 'max_features': 345},\n",
       " mean: 0.56398, std: 0.00327, params: {'max_depth': 90, 'max_features': 345},\n",
       " mean: 0.56398, std: 0.00327, params: {'max_depth': 91, 'max_features': 345},\n",
       " mean: 0.56398, std: 0.00327, params: {'max_depth': 92, 'max_features': 345},\n",
       " mean: 0.56398, std: 0.00327, params: {'max_depth': 93, 'max_features': 345},\n",
       " mean: 0.56398, std: 0.00327, params: {'max_depth': 94, 'max_features': 345},\n",
       " mean: 0.56398, std: 0.00327, params: {'max_depth': 95, 'max_features': 345},\n",
       " mean: 0.56398, std: 0.00327, params: {'max_depth': 96, 'max_features': 345},\n",
       " mean: 0.56398, std: 0.00327, params: {'max_depth': 97, 'max_features': 345},\n",
       " mean: 0.56398, std: 0.00327, params: {'max_depth': 98, 'max_features': 345},\n",
       " mean: 0.56398, std: 0.00327, params: {'max_depth': 99, 'max_features': 345}]"
      ]
     },
     "execution_count": 67,
     "metadata": {},
     "output_type": "execute_result"
    }
   ],
   "source": [
    "tree_grid.grid_scores_"
   ]
  },
  {
   "cell_type": "code",
   "execution_count": 47,
   "metadata": {},
   "outputs": [
    {
     "name": "stdout",
     "output_type": "stream",
     "text": [
      "roc_auc_val:  0.580734294811\n",
      "roc_auc_train:  0.992738589212\n",
      "Wall time: 2.52 s\n"
     ]
    }
   ],
   "source": [
    "%%time\n",
    "# Дерево решений\n",
    "tree = DecisionTreeClassifier(max_depth=50, max_features=345, random_state=seed)\n",
    "tree.fit(X_train, y_train)\n",
    "tree_pred = tree.predict(X_val)\n",
    "tree_pred_train = tree.predict(X_train)\n",
    "print('roc_auc_val: ', roc_auc_score(y_val, tree_pred))\n",
    "print('roc_auc_train: ', roc_auc_score(y_train, tree_pred_train))"
   ]
  },
  {
   "cell_type": "code",
   "execution_count": 72,
   "metadata": {
    "collapsed": true
   },
   "outputs": [],
   "source": [
    "pred_test = tree.predict(test)"
   ]
  },
  {
   "cell_type": "code",
   "execution_count": 75,
   "metadata": {},
   "outputs": [
    {
     "data": {
      "text/html": [
       "<div>\n",
       "<style>\n",
       "    .dataframe thead tr:only-child th {\n",
       "        text-align: right;\n",
       "    }\n",
       "\n",
       "    .dataframe thead th {\n",
       "        text-align: left;\n",
       "    }\n",
       "\n",
       "    .dataframe tbody tr th {\n",
       "        vertical-align: top;\n",
       "    }\n",
       "</style>\n",
       "<table border=\"1\" class=\"dataframe\">\n",
       "  <thead>\n",
       "    <tr style=\"text-align: right;\">\n",
       "      <th></th>\n",
       "      <th>_ID_</th>\n",
       "      <th>_VAL_</th>\n",
       "    </tr>\n",
       "  </thead>\n",
       "  <tbody>\n",
       "    <tr>\n",
       "      <th>0</th>\n",
       "      <td>0</td>\n",
       "      <td>0</td>\n",
       "    </tr>\n",
       "    <tr>\n",
       "      <th>1</th>\n",
       "      <td>1</td>\n",
       "      <td>1</td>\n",
       "    </tr>\n",
       "    <tr>\n",
       "      <th>2</th>\n",
       "      <td>2</td>\n",
       "      <td>0</td>\n",
       "    </tr>\n",
       "    <tr>\n",
       "      <th>3</th>\n",
       "      <td>3</td>\n",
       "      <td>0</td>\n",
       "    </tr>\n",
       "    <tr>\n",
       "      <th>4</th>\n",
       "      <td>4</td>\n",
       "      <td>1</td>\n",
       "    </tr>\n",
       "  </tbody>\n",
       "</table>\n",
       "</div>"
      ],
      "text/plain": [
       "   _ID_  _VAL_\n",
       "0     0      0\n",
       "1     1      1\n",
       "2     2      0\n",
       "3     3      0\n",
       "4     4      1"
      ]
     },
     "execution_count": 75,
     "metadata": {},
     "output_type": "execute_result"
    }
   ],
   "source": [
    "d = {'_ID_': range(4166), '_VAL_': pred_test}\n",
    "df = pd.DataFrame(data=d)\n",
    "df.head()"
   ]
  },
  {
   "cell_type": "code",
   "execution_count": 76,
   "metadata": {
    "collapsed": true
   },
   "outputs": [],
   "source": [
    "df.to_csv('submit.csv', index=False)"
   ]
  },
  {
   "cell_type": "markdown",
   "metadata": {},
   "source": [
    "### knn"
   ]
  },
  {
   "cell_type": "code",
   "execution_count": 112,
   "metadata": {
    "collapsed": true
   },
   "outputs": [],
   "source": [
    "# Подбор параметров knn\n",
    "knn = KNeighborsClassifier()\n",
    "knn_params = {'n_neighbors': range(1, 10)}\n",
    "cv = StratifiedKFold(n_splits=5, shuffle=True, random_state=seed)\n",
    "knn_grid = GridSearchCV(knn, knn_params, scoring = 'roc_auc', cv=cv, n_jobs=-1, verbose=True)\n",
    "knn_grid.fit(X_train, y_train)"
   ]
  },
  {
   "cell_type": "code",
   "execution_count": 113,
   "metadata": {},
   "outputs": [
    {
     "name": "stdout",
     "output_type": "stream",
     "text": [
      "Fitting 5 folds for each of 9 candidates, totalling 45 fits\n"
     ]
    },
    {
     "name": "stderr",
     "output_type": "stream",
     "text": [
      "[Parallel(n_jobs=-1)]: Done  45 out of  45 | elapsed: 47.2min finished\n"
     ]
    },
    {
     "data": {
      "text/plain": [
       "GridSearchCV(cv=StratifiedKFold(n_splits=5, random_state=42, shuffle=True),\n",
       "       error_score='raise',\n",
       "       estimator=KNeighborsClassifier(algorithm='auto', leaf_size=30, metric='minkowski',\n",
       "           metric_params=None, n_jobs=1, n_neighbors=5, p=2,\n",
       "           weights='uniform'),\n",
       "       fit_params=None, iid=True, n_jobs=-1,\n",
       "       param_grid={'n_neighbors': range(1, 10)}, pre_dispatch='2*n_jobs',\n",
       "       refit=True, return_train_score='warn', scoring='roc_auc',\n",
       "       verbose=True)"
      ]
     },
     "execution_count": 113,
     "metadata": {},
     "output_type": "execute_result"
    }
   ],
   "source": [
    "knn_grid.fit(X_train, y_train)"
   ]
  },
  {
   "cell_type": "code",
   "execution_count": 114,
   "metadata": {},
   "outputs": [
    {
     "name": "stdout",
     "output_type": "stream",
     "text": [
      "Best parameters:  {'n_neighbors': 9}\n",
      "roc_auc_cv:  0.678788981951\n",
      "roc_auc_train:  0.610346997613\n",
      "roc_auc_val:  0.568126955539\n"
     ]
    }
   ],
   "source": [
    "print('Best parameters: ', knn_grid.best_params_)\n",
    "print('roc_auc_cv: ', knn_grid.best_score_)\n",
    "print('roc_auc_train: ', roc_auc_score(y_train, knn_grid.predict(X_train)))\n",
    "print('roc_auc_val: ', roc_auc_score(y_val, knn_grid.predict(X_val)))"
   ]
  },
  {
   "cell_type": "code",
   "execution_count": 115,
   "metadata": {},
   "outputs": [
    {
     "name": "stdout",
     "output_type": "stream",
     "text": [
      "roc_auc_train:  0.579133593192\n",
      "roc_auc_val:  0.547693325553\n",
      "Wall time: 1min 35s\n"
     ]
    }
   ],
   "source": [
    "%%time\n",
    "# Метод k ближайших соседей\n",
    "knn = KNeighborsClassifier(n_neighbors=10, n_jobs=-1)\n",
    "knn.fit(X_train, y_train)\n",
    "knn_pred = knn.predict(X_val)\n",
    "print('roc_auc_train: ', roc_auc_score(y_train, knn.predict(X_train)))\n",
    "print('roc_auc_val: ', roc_auc_score(y_val, knn_pred))"
   ]
  },
  {
   "cell_type": "code",
   "execution_count": 116,
   "metadata": {},
   "outputs": [
    {
     "name": "stdout",
     "output_type": "stream",
     "text": [
      "roc_auc_train:  0.579133593192\n",
      "roc_auc_val:  0.547693325553\n",
      "Wall time: 6min 23s\n"
     ]
    }
   ],
   "source": [
    "%%time\n",
    "# Метод k ближайших соседей\n",
    "knn = KNeighborsClassifier(n_neighbors=10)\n",
    "knn.fit(X_train, y_train)\n",
    "knn_pred = knn.predict(X_val)\n",
    "print('roc_auc_train: ', roc_auc_score(y_train, knn.predict(X_train)))\n",
    "print('roc_auc_val: ', roc_auc_score(y_val, knn_pred))"
   ]
  },
  {
   "cell_type": "markdown",
   "metadata": {},
   "source": [
    "### Случайный лес"
   ]
  },
  {
   "cell_type": "code",
   "execution_count": 130,
   "metadata": {},
   "outputs": [
    {
     "name": "stdout",
     "output_type": "stream",
     "text": [
      "roc_auc_train:  0.999884739511\n",
      "roc_auc_val:  0.567360591038\n",
      "Wall time: 5min 25s\n"
     ]
    }
   ],
   "source": [
    "%%time\n",
    "forest = RandomForestClassifier(n_estimators=1000, max_depth = 50, max_features = 345, n_jobs=-1, random_state=seed)\n",
    "forest.fit(X_train, y_train)\n",
    "print('roc_auc_train: ', roc_auc_score(y_train, forest.predict(X_train)))\n",
    "print('roc_auc_val: ', roc_auc_score(y_val, forest.predict(X_val)))"
   ]
  },
  {
   "cell_type": "code",
   "execution_count": 131,
   "metadata": {},
   "outputs": [
    {
     "name": "stdout",
     "output_type": "stream",
     "text": [
      "Fitting 5 folds for each of 5 candidates, totalling 25 fits\n"
     ]
    },
    {
     "name": "stderr",
     "output_type": "stream",
     "text": [
      "[Parallel(n_jobs=-1)]: Done  25 out of  25 | elapsed:  8.4min finished\n"
     ]
    },
    {
     "data": {
      "text/plain": [
       "GridSearchCV(cv=StratifiedKFold(n_splits=5, random_state=42, shuffle=True),\n",
       "       error_score='raise',\n",
       "       estimator=RandomForestClassifier(bootstrap=True, class_weight=None, criterion='gini',\n",
       "            max_depth=None, max_features='auto', max_leaf_nodes=None,\n",
       "            min_impurity_decrease=0.0, min_impurity_split=None,\n",
       "            min_samples_leaf=1, min_samples_split=2,\n",
       "            min_weight_fraction_leaf=0.0, n_estimators=100, n_jobs=-1,\n",
       "            oob_score=False, random_state=42, verbose=0, warm_start=False),\n",
       "       fit_params=None, iid=True, n_jobs=-1,\n",
       "       param_grid={'max_depth': [10, 20, 30, 40, 50], 'max_features': [345]},\n",
       "       pre_dispatch='2*n_jobs', refit=True, return_train_score='warn',\n",
       "       scoring='roc_auc', verbose=True)"
      ]
     },
     "execution_count": 131,
     "metadata": {},
     "output_type": "execute_result"
    }
   ],
   "source": [
    "forest = RandomForestClassifier(n_estimators=100, n_jobs=-1, random_state=seed)\n",
    "forest_params = {'max_depth': [10,20,30,40,50],'max_features': [345]}\n",
    "cv = StratifiedKFold(n_splits=5, shuffle=True, random_state=seed)\n",
    "forest_grid = GridSearchCV(forest, forest_params, scoring = 'roc_auc', cv=cv, n_jobs=-1, verbose=True)\n",
    "forest_grid.fit(X_train, y_train)"
   ]
  },
  {
   "cell_type": "code",
   "execution_count": 132,
   "metadata": {},
   "outputs": [
    {
     "name": "stdout",
     "output_type": "stream",
     "text": [
      "Best parameters:  {'max_depth': 10, 'max_features': 345}\n",
      "roc_auc_cv:  0.722507048529\n",
      "roc_auc_train:  0.648533357105\n",
      "roc_auc_val:  0.547598219167\n"
     ]
    }
   ],
   "source": [
    "print('Best parameters: ', forest_grid.best_params_)\n",
    "print('roc_auc_cv: ', forest_grid.best_score_)\n",
    "print('roc_auc_train: ', roc_auc_score(y_train, forest_grid.predict(X_train)))\n",
    "print('roc_auc_val: ', roc_auc_score(y_val, forest_grid.predict(X_val)))"
   ]
  },
  {
   "cell_type": "markdown",
   "metadata": {},
   "source": [
    "### Логистическая регрессия"
   ]
  },
  {
   "cell_type": "code",
   "execution_count": 134,
   "metadata": {
    "collapsed": true
   },
   "outputs": [],
   "source": [
    "logit = LogisticRegression(n_jobs=-1, random_state=seed)"
   ]
  },
  {
   "cell_type": "code",
   "execution_count": 135,
   "metadata": {},
   "outputs": [
    {
     "name": "stderr",
     "output_type": "stream",
     "text": [
      "D:\\Anaconda3\\lib\\site-packages\\sklearn\\linear_model\\logistic.py:1228: UserWarning: 'n_jobs' > 1 does not have any effect when 'solver' is set to 'liblinear'. Got 'n_jobs' = -1.\n",
      "  \" = {}.\".format(self.n_jobs))\n"
     ]
    },
    {
     "name": "stdout",
     "output_type": "stream",
     "text": [
      "Wall time: 1.78 s\n"
     ]
    },
    {
     "data": {
      "text/plain": [
       "LogisticRegression(C=1.0, class_weight=None, dual=False, fit_intercept=True,\n",
       "          intercept_scaling=1, max_iter=100, multi_class='ovr', n_jobs=-1,\n",
       "          penalty='l2', random_state=42, solver='liblinear', tol=0.0001,\n",
       "          verbose=0, warm_start=False)"
      ]
     },
     "execution_count": 135,
     "metadata": {},
     "output_type": "execute_result"
    }
   ],
   "source": [
    "%%time\n",
    "logit.fit(X_train, y_train)"
   ]
  },
  {
   "cell_type": "code",
   "execution_count": 140,
   "metadata": {},
   "outputs": [
    {
     "name": "stdout",
     "output_type": "stream",
     "text": [
      "roc_auc_train:  0.553944356175\n",
      "roc_auc_val:  0.554931518808\n"
     ]
    }
   ],
   "source": [
    "print('roc_auc_train: ', roc_auc_score(y_train, logit.predict(X_train)))\n",
    "print('roc_auc_val: ', roc_auc_score(y_val, logit.predict(X_val)))"
   ]
  },
  {
   "cell_type": "code",
   "execution_count": 5,
   "metadata": {},
   "outputs": [
    {
     "data": {
      "text/plain": [
       "array([  1.00000000e-02,   3.59381366e-02,   1.29154967e-01,\n",
       "         4.64158883e-01,   1.66810054e+00,   5.99484250e+00,\n",
       "         2.15443469e+01,   7.74263683e+01,   2.78255940e+02,\n",
       "         1.00000000e+03])"
      ]
     },
     "execution_count": 5,
     "metadata": {},
     "output_type": "execute_result"
    }
   ],
   "source": [
    "C = np.logspace(-2, 3, 10)\n",
    "C"
   ]
  },
  {
   "cell_type": "code",
   "execution_count": 14,
   "metadata": {},
   "outputs": [
    {
     "name": "stderr",
     "output_type": "stream",
     "text": [
      "[Parallel(n_jobs=-1)]: Done   2 out of   5 | elapsed:  4.6min remaining:  6.9min\n",
      "[Parallel(n_jobs=-1)]: Done   5 out of   5 | elapsed:  4.8min finished\n"
     ]
    },
    {
     "data": {
      "text/plain": [
       "LogisticRegressionCV(Cs=array([  1.00000e-02,   1.02334e-02, ...,   9.77192e+02,   1.00000e+03]),\n",
       "           class_weight=None,\n",
       "           cv=StratifiedKFold(n_splits=5, random_state=42, shuffle=True),\n",
       "           dual=False, fit_intercept=True, intercept_scaling=1.0,\n",
       "           max_iter=100, multi_class='ovr', n_jobs=-1, penalty='l2',\n",
       "           random_state=None, refit=True, scoring='roc_auc',\n",
       "           solver='lbfgs', tol=0.0001, verbose=True)"
      ]
     },
     "execution_count": 14,
     "metadata": {},
     "output_type": "execute_result"
    }
   ],
   "source": [
    "C = np.logspace(-2, 3, 500)\n",
    "cv = StratifiedKFold(n_splits=5, shuffle=True, random_state=seed)\n",
    "logit_grid = LogisticRegressionCV(Cs=C, cv=cv, scoring = 'roc_auc', verbose=True, n_jobs=-1)\n",
    "logit_grid.fit(X_train, y_train)"
   ]
  },
  {
   "cell_type": "code",
   "execution_count": 15,
   "metadata": {},
   "outputs": [
    {
     "data": {
      "text/plain": [
       "array([ 0.08747496])"
      ]
     },
     "execution_count": 15,
     "metadata": {},
     "output_type": "execute_result"
    }
   ],
   "source": [
    "logit_grid.C_"
   ]
  },
  {
   "cell_type": "code",
   "execution_count": 16,
   "metadata": {},
   "outputs": [
    {
     "data": {
      "image/png": "[encoded data removed]",
      "text/plain": [
       "<matplotlib.figure.Figure at 0x2373a52cdd8>"
      ]
     },
     "metadata": {},
     "output_type": "display_data"
    }
   ],
   "source": [
    "plt.plot(C, np.mean(logit_grid.scores_[1], axis=0))\n",
    "plt.xlabel('C')\n",
    "plt.ylabel('Mean CV-accuracy');"
   ]
  },
  {
   "cell_type": "code",
   "execution_count": 18,
   "metadata": {},
   "outputs": [
    {
     "data": {
      "image/png": "[encoded data removed]",
      "text/plain": [
       "<matplotlib.figure.Figure at 0x23738f907f0>"
      ]
     },
     "metadata": {},
     "output_type": "display_data"
    }
   ],
   "source": [
    "plt.plot(C, np.mean(logit_grid.scores_[1], axis=0))\n",
    "plt.xlabel('C')\n",
    "plt.ylabel('Mean CV-accuracy');\n",
    "plt.xlim((0,0.2));"
   ]
  },
  {
   "cell_type": "code",
   "execution_count": 19,
   "metadata": {},
   "outputs": [
    {
     "name": "stdout",
     "output_type": "stream",
     "text": [
      "roc_auc_train:  0.543814038169\n",
      "roc_auc_val:  0.545043670831\n"
     ]
    }
   ],
   "source": [
    "print('roc_auc_train: ', roc_auc_score(y_train, logit_grid.predict(X_train)))\n",
    "print('roc_auc_val: ', roc_auc_score(y_val, logit_grid.predict(X_val)))"
   ]
  },
  {
   "cell_type": "code",
   "execution_count": 7,
   "metadata": {},
   "outputs": [
    {
     "data": {
      "text/plain": [
       "array([ 0.12915497])"
      ]
     },
     "execution_count": 7,
     "metadata": {},
     "output_type": "execute_result"
    }
   ],
   "source": [
    "logit_grid.C_"
   ]
  },
  {
   "cell_type": "code",
   "execution_count": 8,
   "metadata": {},
   "outputs": [
    {
     "data": {
      "image/png": "[encoded data removed]",
      "text/plain": [
       "<matplotlib.figure.Figure at 0x23738daebe0>"
      ]
     },
     "metadata": {},
     "output_type": "display_data"
    }
   ],
   "source": [
    "plt.plot(C, np.mean(logit_grid.scores_[1], axis=0))\n",
    "plt.xlabel('C')\n",
    "plt.ylabel('Mean CV-accuracy');"
   ]
  },
  {
   "cell_type": "code",
   "execution_count": 12,
   "metadata": {},
   "outputs": [
    {
     "data": {
      "image/png": "[encoded data removed]",
      "text/plain": [
       "<matplotlib.figure.Figure at 0x2373a413da0>"
      ]
     },
     "metadata": {},
     "output_type": "display_data"
    }
   ],
   "source": [
    "plt.plot(C, np.mean(logit_grid.scores_[1], axis=0))\n",
    "plt.xlabel('C')\n",
    "plt.ylabel('Mean CV-accuracy');\n",
    "plt.xlim((0,1));"
   ]
  },
  {
   "cell_type": "code",
   "execution_count": 13,
   "metadata": {},
   "outputs": [
    {
     "name": "stdout",
     "output_type": "stream",
     "text": [
      "roc_auc_train:  0.545841960922\n",
      "roc_auc_val:  0.546488185214\n"
     ]
    }
   ],
   "source": [
    "print('roc_auc_train: ', roc_auc_score(y_train, logit_grid.predict(X_train)))\n",
    "print('roc_auc_val: ', roc_auc_score(y_val, logit_grid.predict(X_val)))"
   ]
  },
  {
   "cell_type": "markdown",
   "metadata": {},
   "source": [
    "#### Ridge регрессия"
   ]
  },
  {
   "cell_type": "code",
   "execution_count": 56,
   "metadata": {},
   "outputs": [
    {
     "name": "stdout",
     "output_type": "stream",
     "text": [
      "roc_auc_train:  0.744576759027\n",
      "roc_auc_val:  0.718327597852\n"
     ]
    }
   ],
   "source": [
    "ridge = Ridge(alpha=0.1, random_state=seed)\n",
    "ridge.fit(X_train, y_train)\n",
    "print('roc_auc_train: ', roc_auc_score(y_train, ridge.predict(X_train)))\n",
    "print('roc_auc_val: ', roc_auc_score(y_val, ridge.predict(X_val)))"
   ]
  },
  {
   "cell_type": "code",
   "execution_count": null,
   "metadata": {
    "collapsed": true
   },
   "outputs": [],
   "source": [
    "def frange(start, stop, step):\n",
    "    i = start\n",
    "    while i < stop:\n",
    "        yield i\n",
    "        i += step"
   ]
  },
  {
   "cell_type": "code",
   "execution_count": 70,
   "metadata": {},
   "outputs": [
    {
     "data": {
      "text/plain": [
       "RidgeCV(alphas=[0, 0.1, 0.2, 0.30000000000000004, 0.4, 0.5, 0.6, 0.7, 0.7999999999999999, 0.8999999999999999, 0.9999999999999999, 1.0999999999999999, 1.2, 1.3, 1.4000000000000001, 1.5000000000000002, 1.6000000000000003, 1.7000000000000004, 1.8000000000000005, 1.9000000000000006, 2.0000000000000004, 2.100000...9999862, 99.59999999999862, 99.69999999999861, 99.7999999999986, 99.8999999999986, 99.9999999999986],\n",
       "    cv=StratifiedKFold(n_splits=5, random_state=42, shuffle=True),\n",
       "    fit_intercept=True, gcv_mode=None, normalize=False, scoring='roc_auc',\n",
       "    store_cv_values=False)"
      ]
     },
     "execution_count": 70,
     "metadata": {},
     "output_type": "execute_result"
    }
   ],
   "source": [
    "alphas = list(frange(0, 100, 0.1))\n",
    "ridge_cv = RidgeCV(alphas=alphas, cv=cv, scoring = 'roc_auc')\n",
    "ridge_cv.fit(X_train, y_train)"
   ]
  },
  {
   "cell_type": "code",
   "execution_count": 71,
   "metadata": {},
   "outputs": [
    {
     "name": "stdout",
     "output_type": "stream",
     "text": [
      "Best parameters:  73.90000000000008\n",
      "roc_auc_train:  0.739929317318\n",
      "roc_auc_val:  0.720589935263\n"
     ]
    }
   ],
   "source": [
    "print('Best parameters: ', ridge_cv.alpha_)\n",
    "#print('roc_auc_cv: ', forest_grid.best_score_)\n",
    "print('roc_auc_train: ', roc_auc_score(y_train, ridge_cv.predict(X_train)))\n",
    "print('roc_auc_val: ', roc_auc_score(y_val, ridge_cv.predict(X_val)))"
   ]
  },
  {
   "cell_type": "code",
   "execution_count": 74,
   "metadata": {
    "collapsed": true
   },
   "outputs": [],
   "source": [
    "pred_test = ridge_cv.predict(test)"
   ]
  },
  {
   "cell_type": "code",
   "execution_count": 75,
   "metadata": {},
   "outputs": [
    {
     "data": {
      "text/plain": [
       "array([ 0.11695343,  0.39286592,  0.22152217, ...,  0.00313677,\n",
       "        0.11124567,  0.23183533])"
      ]
     },
     "execution_count": 75,
     "metadata": {},
     "output_type": "execute_result"
    }
   ],
   "source": [
    "pred_test"
   ]
  },
  {
   "cell_type": "code",
   "execution_count": 72,
   "metadata": {
    "collapsed": true
   },
   "outputs": [],
   "source": [
    "pred_test = ridge.predict(test)\n",
    "d = {'_ID_': range(4166), '_VAL_': pred_test}\n",
    "df = pd.DataFrame(data=d)\n",
    "df.to_csv('submit.csv', index=False)"
   ]
  },
  {
   "cell_type": "code",
   "execution_count": 73,
   "metadata": {},
   "outputs": [
    {
     "data": {
      "text/html": [
       "<div>\n",
       "<style>\n",
       "    .dataframe thead tr:only-child th {\n",
       "        text-align: right;\n",
       "    }\n",
       "\n",
       "    .dataframe thead th {\n",
       "        text-align: left;\n",
       "    }\n",
       "\n",
       "    .dataframe tbody tr th {\n",
       "        vertical-align: top;\n",
       "    }\n",
       "</style>\n",
       "<table border=\"1\" class=\"dataframe\">\n",
       "  <thead>\n",
       "    <tr style=\"text-align: right;\">\n",
       "      <th></th>\n",
       "      <th>_ID_</th>\n",
       "      <th>_VAL_</th>\n",
       "    </tr>\n",
       "  </thead>\n",
       "  <tbody>\n",
       "    <tr>\n",
       "      <th>0</th>\n",
       "      <td>0</td>\n",
       "      <td>0.102637</td>\n",
       "    </tr>\n",
       "    <tr>\n",
       "      <th>1</th>\n",
       "      <td>1</td>\n",
       "      <td>0.433846</td>\n",
       "    </tr>\n",
       "    <tr>\n",
       "      <th>2</th>\n",
       "      <td>2</td>\n",
       "      <td>0.204976</td>\n",
       "    </tr>\n",
       "    <tr>\n",
       "      <th>3</th>\n",
       "      <td>3</td>\n",
       "      <td>0.347068</td>\n",
       "    </tr>\n",
       "    <tr>\n",
       "      <th>4</th>\n",
       "      <td>4</td>\n",
       "      <td>0.418889</td>\n",
       "    </tr>\n",
       "  </tbody>\n",
       "</table>\n",
       "</div>"
      ],
      "text/plain": [
       "   _ID_     _VAL_\n",
       "0     0  0.102637\n",
       "1     1  0.433846\n",
       "2     2  0.204976\n",
       "3     3  0.347068\n",
       "4     4  0.418889"
      ]
     },
     "execution_count": 73,
     "metadata": {},
     "output_type": "execute_result"
    }
   ],
   "source": [
    "df.head()"
   ]
  },
  {
   "cell_type": "markdown",
   "metadata": {},
   "source": [
    "#### Lasso регрессия"
   ]
  },
  {
   "cell_type": "code",
   "execution_count": 88,
   "metadata": {},
   "outputs": [
    {
     "name": "stdout",
     "output_type": "stream",
     "text": [
      "roc_auc_train:  0.739673092252\n",
      "roc_auc_val:  0.7199435794\n"
     ]
    }
   ],
   "source": [
    "lasso = Lasso(alpha=0.0001, random_state=seed)\n",
    "lasso.fit(X_train, y_train)\n",
    "print('roc_auc_train: ', roc_auc_score(y_train, lasso.predict(X_train)))\n",
    "print('roc_auc_val: ', roc_auc_score(y_val, lasso.predict(X_val)))"
   ]
  },
  {
   "cell_type": "code",
   "execution_count": 103,
   "metadata": {},
   "outputs": [
    {
     "name": "stderr",
     "output_type": "stream",
     "text": [
      ".....[Parallel(n_jobs=-1)]: Done   2 out of   5 | elapsed:    0.3s remaining:    0.5s\n",
      "[Parallel(n_jobs=-1)]: Done   5 out of   5 | elapsed:    0.3s finished\n"
     ]
    },
    {
     "data": {
      "text/plain": [
       "LassoCV(alphas=[0.0001], copy_X=True,\n",
       "    cv=StratifiedKFold(n_splits=5, random_state=42, shuffle=True),\n",
       "    eps=0.001, fit_intercept=True, max_iter=1000, n_alphas=100, n_jobs=-1,\n",
       "    normalize=False, positive=False, precompute='auto', random_state=42,\n",
       "    selection='cyclic', tol=0.0001, verbose=True)"
      ]
     },
     "execution_count": 103,
     "metadata": {},
     "output_type": "execute_result"
    }
   ],
   "source": [
    "alphas = np.logspace(-5, -0.5, 50)\n",
    "lasso_cv = LassoCV(alphas=[0.0001], cv=cv, n_jobs=-1, random_state=seed, verbose=True)\n",
    "lasso_cv.fit(X_train, y_train)"
   ]
  },
  {
   "cell_type": "code",
   "execution_count": 104,
   "metadata": {},
   "outputs": [
    {
     "name": "stdout",
     "output_type": "stream",
     "text": [
      "Best parameters:  0.0001\n",
      "roc_auc_train:  0.739673092252\n",
      "roc_auc_val:  0.7199435794\n"
     ]
    }
   ],
   "source": [
    "print('Best parameters: ', lasso_cv.alpha_)\n",
    "#print('roc_auc_cv: ', forest_grid.best_score_)\n",
    "print('roc_auc_train: ', roc_auc_score(y_train, lasso_cv.predict(X_train)))\n",
    "print('roc_auc_val: ', roc_auc_score(y_val, lasso_cv.predict(X_val)))"
   ]
  },
  {
   "cell_type": "code",
   "execution_count": null,
   "metadata": {
    "collapsed": true
   },
   "outputs": [],
   "source": []
  }
 ],
 "metadata": {
  "kernelspec": {
   "display_name": "Python 3",
   "language": "python",
   "name": "python3"
  },
  "language_info": {
   "codemirror_mode": {
    "name": "ipython",
    "version": 3
   },
   "file_extension": ".py",
   "mimetype": "text/x-python",
   "name": "python",
   "nbconvert_exporter": "python",
   "pygments_lexer": "ipython3",
   "version": "3.6.3"
  }
 },
 "nbformat": 4,
 "nbformat_minor": 2
}
